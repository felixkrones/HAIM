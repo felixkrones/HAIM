{
 "cells": [
  {
   "cell_type": "markdown",
   "id": "db715328",
   "metadata": {},
   "source": [
    "# HAIM test"
   ]
  },
  {
   "cell_type": "markdown",
   "id": "e7411736",
   "metadata": {},
   "source": [
    "# Prep data"
   ]
  },
  {
   "cell_type": "code",
   "execution_count": null,
   "id": "3ccbd38b",
   "metadata": {},
   "outputs": [],
   "source": [
    "import os\n",
    "import pandas as pd\n",
    "from tqdm import tqdm"
   ]
  },
  {
   "cell_type": "code",
   "execution_count": null,
   "id": "1e8088c7",
   "metadata": {},
   "outputs": [],
   "source": [
    "# Load filter data\n",
    "df_filter = pd.read_parquet(\"/data/wolf6245/src/mm_study/data/f_modelling/03_model_input/data-2024-12-19-01-23-23/(3) Chronic ischaemic heart disease/y_fusion_label_not_gt.parquet\")\n",
    "df_folds = pd.read_pickle(\"/data/wolf6245/src/mm_study/data/f_modelling/03_model_input/data-2024-12-19-01-23-23/(3) Chronic ischaemic heart disease/train_test_vali_folds_fusion_label.pkl\")\n",
    "subject_ids_to_use = [int(i) for i in df_filter['subject_id'].unique()]\n",
    "hadm_ids_to_use = [int(i) for i in df_filter['hadm_id'].unique()]\n",
    "\n",
    "# Load data\n",
    "haim_mimiciv_key_ids = pd.read_csv(\"/data/wolf6245/src/HAIM/data/haim_mimiciv/haim_mimiciv_key_ids.csv\")\n",
    "mimic_cxr_metadata = pd.read_csv(\"/data/wolf6245/src/HAIM/data/haim_mimiciv/mimic-cxr-2.0.0-metadata.csv\")\n",
    "core = pd.read_csv(\"/data/wolf6245/src/HAIM/data/haim_mimiciv/core/core.csv\")\n",
    "pickle_aux = pd.read_pickle(\"/data/wolf6245/src/HAIM/data/haim_mimiciv/pickle/00000000.pkl\")\n",
    "pickle_files = os.listdir(\"/data/wolf6245/src/HAIM/data/haim_mimiciv/pickle/\")\n",
    "\n",
    "# Shapes\n",
    "print(f\"Shape haim_mimiciv_key_ids: {haim_mimiciv_key_ids.shape}\")\n",
    "print(f\"Shape mimic_cxr_metadata: {mimic_cxr_metadata.shape}\")\n",
    "print(f\"Shape core: {core.shape}\")\n",
    "print(f\"pickle files: {len(pickle_files)}\")\n",
    "\n",
    "# Filter\n",
    "haim_mimiciv_key_ids_filtered = haim_mimiciv_key_ids[haim_mimiciv_key_ids['hadm_id'].astype(int).isin(hadm_ids_to_use)]\n",
    "print(f\"Shape haim_mimiciv_key_ids_filtered: {haim_mimiciv_key_ids_filtered.shape}\")\n",
    "core_filtered = core[core['hadm_id'].astype(int).isin(hadm_ids_to_use)]\n",
    "print(f\"Shape core_filtered: {core_filtered.shape}\")\n",
    "mimic_cxr_metadata_filtered = mimic_cxr_metadata[mimic_cxr_metadata['subject_id'].astype(int).isin(subject_ids_to_use)]\n",
    "print(f\"Shape mimic_cxr_metadata_filtered: {mimic_cxr_metadata_filtered.shape}\")\n",
    "\n",
    "# Filter cxr\n",
    "core_filtered['dischtime'] = pd.to_datetime(core_filtered['dischtime'])\n",
    "mimic_cxr_metadata_filtered['cxrtime'] = pd.to_datetime(mimic_cxr_metadata_filtered['cxrtime'])\n",
    "max_dischtime = core_filtered.copy().groupby('subject_id')['dischtime'].max().reset_index()\n",
    "max_dischtime.rename(columns={'dischtime': 'max_dischtime'}, inplace=True)\n",
    "merged = mimic_cxr_metadata_filtered.copy().merge(max_dischtime, on='subject_id', how='left')\n",
    "mimic_cxr_metadata_filtered_filtered = merged.copy()[merged['cxrtime'] <= merged['max_dischtime']].drop(columns=['max_dischtime'])\n",
    "print(f\"Shape mimic_cxr_metadata_filtered_filtered: {mimic_cxr_metadata_filtered_filtered.shape}\")\n",
    "\n",
    "# Get all hadm_ids\n",
    "files_to_remove = []\n",
    "for pickle_file in tqdm(pickle_files[:]):\n",
    "    pickle_file_path = os.path.join(\"/data/wolf6245/src/HAIM/data/haim_mimiciv/pickle/\", pickle_file)\n",
    "    pickle_df = pd.read_pickle(pickle_file_path)\n",
    "    hadm_ids_aux = [int(i) for i in pickle_df.admissions.hadm_id.unique()]\n",
    "    subject_ids_aux = [int(i) for i in pickle_df.admissions.subject_id.unique()]\n",
    "    if any([hadm_id not in hadm_ids_to_use for hadm_id in hadm_ids_aux]):\n",
    "            files_to_remove.append(pickle_file)\n",
    "print(f\"Number of pickle files with hadm_ids not in filter: {len(files_to_remove)} of {len(pickle_files)}\")\n",
    "\n",
    "if False:\n",
    "    # Save files back\n",
    "    haim_mimiciv_key_ids_filtered.to_csv(\"/data/wolf6245/src/HAIM/data/haim_mimiciv/haim_mimiciv_key_ids.csv\", index=False)\n",
    "    mimic_cxr_metadata_filtered_filtered.to_csv(\"/data/wolf6245/src/HAIM/data/haim_mimiciv/mimic-cxr-2.0.0-metadata.csv\", index=False)\n",
    "    core_filtered.to_csv(\"/data/wolf6245/src/HAIM/data/haim_mimiciv/core/core.csv\", index=False)\n",
    "\n",
    "    # Delete files in files_to_remove\n",
    "    for file in tqdm(files_to_remove, desc=\"Deleting files\"):\n",
    "        file_path = os.path.join(\"/data/wolf6245/src/HAIM/data/haim_mimiciv/pickle/\", file)\n",
    "        os.remove(file_path)"
   ]
  },
  {
   "cell_type": "markdown",
   "id": "002148c1",
   "metadata": {},
   "source": [
    "## Check features"
   ]
  },
  {
   "cell_type": "code",
   "execution_count": null,
   "id": "af9c797e",
   "metadata": {},
   "outputs": [],
   "source": [
    "import pickle\n",
    "import pandas as pd"
   ]
  },
  {
   "cell_type": "code",
   "execution_count": null,
   "id": "c669a2ef",
   "metadata": {},
   "outputs": [],
   "source": [
    "mapping = {\n",
    "    # Exact 6\n",
    "    \"de_\": ['anchor_age', 'gender_int', 'ethnicity_int', 'marital_status_int', 'language_int', 'insurance_int'],\n",
    "    # Times 11\n",
    "    \"ts_ce_\": ['Heart Rate','Non Invasive Blood Pressure systolic','Non Invasive Blood Pressure diastolic', 'Non Invasive Blood Pressure mean', 'Respiratory Rate','O2 saturation pulseoxymetry', 'GCS - Verbal Response', 'GCS - Eye Opening', 'GCS - Motor Response'],\n",
    "    # 242 instead of 11*23 = 253\n",
    "    \"ts_le_\": ['Glucose', 'Potassium', 'Sodium', 'Chloride', 'Creatinine', 'Urea Nitrogen', 'Bicarbonate', 'Anion Gap', 'Hemoglobin', 'Hematocrit', 'Magnesium', 'Platelet Count', 'Phosphate', 'White Blood Cells', 'Calcium, Total', 'MCH', 'Red Blood Cells', 'MCHC', 'MCV', 'RDW', 'Neutrophils', 'Vancomycin'],\n",
    "    # Times 11\n",
    "    \"ts_pe_\": ['Foley Catheter', 'PICC Line', 'Intubation', 'Peritoneal Dialysis', 'Bronchoscopy', 'EEG', 'Dialysis - CRRT', 'Dialysis Catheter', 'Chest Tube Removed', 'Hemodialysis'],\n",
    "    \"vd_\": [\"vision_dense\"],\n",
    "    \"vp_\": [\"vision_predictions\"],\n",
    "    \"vmd_\": [\"vision_multi_dense\"],\n",
    "    \"vmp_\": [\"vision_multi_predictions\"],\n",
    "}"
   ]
  },
  {
   "cell_type": "code",
   "execution_count": null,
   "id": "d6d1acb3",
   "metadata": {},
   "outputs": [],
   "source": [
    "# df_chartevents = pd.read_csv(\"/data/wolf6245/data/physionet.org/files/mimiciv/3.0/icu/chartevents.csv.gz\", dtype={'value': 'object', 'valueuom': 'object'})\n",
    "df_pickle = pd.read_pickle(\"/data/wolf6245/src/HAIM/data/haim_mimiciv/pickle/00000002.pkl\")\n",
    "df_embedding = pd.read_csv(\"/data/wolf6245/src/HAIM/data/haim_mimiciv/embedding/00000002.pkl\")\n",
    "df_d_items = pd.read_csv(\"/data/wolf6245/src/mm_study/data/a_raw/MIMIC/MIMIC-IV/icu/d_items.csv.gz\")\n",
    "df_d_labitems = pd.read_csv(\"/data/wolf6245/src/mm_study/data/a_raw/MIMIC/MIMIC-IV/hosp/d_labitems.csv.gz\")\n",
    "df_d_hcpcs = pd.read_csv(\"/data/wolf6245/src/mm_study/data/a_raw/MIMIC/MIMIC-IV/hosp/d_hcpcs.csv.gz\")"
   ]
  },
  {
   "cell_type": "code",
   "execution_count": null,
   "id": "c2878a28",
   "metadata": {},
   "outputs": [],
   "source": [
    "chartevent_ids = df_pickle.chartevents[df_pickle.chartevents[\"label\"].isin(mapping[\"ts_ce_\"])].itemid.unique()\n",
    "labevent_ids = df_pickle.labevents[df_pickle.labevents[\"label\"].isin(mapping[\"ts_le_\"])].itemid.unique()\n",
    "proceedureevent_ids = df_pickle.procedureevents[df_pickle.procedureevents[\"label\"].isin(mapping[\"ts_pe_\"])].itemid.unique()\n",
    "\n",
    "print(f\"Number of chartevent_ids: {len(chartevent_ids)}, compared to {len(mapping['ts_ce_'])}\")\n",
    "print(f\"Number of labevent_ids: {len(labevent_ids)}, compared to {len(mapping['ts_le_'])}\")\n",
    "print(f\"Number of proceedureevent_ids: {len(proceedureevent_ids)}, compared to {len(mapping['ts_pe_'])}\")"
   ]
  },
  {
   "cell_type": "code",
   "execution_count": null,
   "id": "badd166b",
   "metadata": {},
   "outputs": [],
   "source": []
  }
 ],
 "metadata": {
  "kernelspec": {
   "display_name": "haim",
   "language": "python",
   "name": "python3"
  },
  "language_info": {
   "codemirror_mode": {
    "name": "ipython",
    "version": 3
   },
   "file_extension": ".py",
   "mimetype": "text/x-python",
   "name": "python",
   "nbconvert_exporter": "python",
   "pygments_lexer": "ipython3",
   "version": "3.6.9"
  }
 },
 "nbformat": 4,
 "nbformat_minor": 5
}
