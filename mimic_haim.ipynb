{
 "cells": [
  {
   "cell_type": "markdown",
   "id": "db715328",
   "metadata": {},
   "source": [
    "# HAIM test"
   ]
  },
  {
   "cell_type": "markdown",
   "id": "e7411736",
   "metadata": {},
   "source": [
    "# Test"
   ]
  },
  {
   "cell_type": "code",
   "execution_count": 1,
   "id": "3ccbd38b",
   "metadata": {},
   "outputs": [],
   "source": [
    "import pandas as pd"
   ]
  },
  {
   "cell_type": "code",
   "execution_count": 2,
   "id": "1e8088c7",
   "metadata": {},
   "outputs": [],
   "source": [
    "output_path = 'data/haim_mimiciv/'\n",
    "df_haim_ids = pd.read_csv(output_path + 'haim_mimiciv_key_ids.csv')"
   ]
  },
  {
   "cell_type": "code",
   "execution_count": 6,
   "id": "53db6790",
   "metadata": {},
   "outputs": [
    {
     "data": {
      "text/plain": [
       "5280"
      ]
     },
     "execution_count": 6,
     "metadata": {},
     "output_type": "execute_result"
    }
   ],
   "source": [
    "df_haim_ids.subject_id.nunique()"
   ]
  }
 ],
 "metadata": {
  "kernelspec": {
   "display_name": "ph24",
   "language": "python",
   "name": "python3"
  },
  "language_info": {
   "codemirror_mode": {
    "name": "ipython",
    "version": 3
   },
   "file_extension": ".py",
   "mimetype": "text/x-python",
   "name": "python",
   "nbconvert_exporter": "python",
   "pygments_lexer": "ipython3",
   "version": "3.11.9"
  }
 },
 "nbformat": 4,
 "nbformat_minor": 5
}
